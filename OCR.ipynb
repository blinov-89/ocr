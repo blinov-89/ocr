{
  "nbformat": 4,
  "nbformat_minor": 0,
  "metadata": {
    "colab": {
      "name": "OCR.ipynb",
      "provenance": [],
      "collapsed_sections": [],
      "authorship_tag": "ABX9TyMOBYEwAct8O7cObNpoHqlS",
      "include_colab_link": true
    },
    "kernelspec": {
      "name": "python3",
      "display_name": "Python 3"
    },
    "language_info": {
      "name": "python"
    }
  },
  "cells": [
    {
      "cell_type": "markdown",
      "metadata": {
        "id": "view-in-github",
        "colab_type": "text"
      },
      "source": [
        "<a href=\"https://colab.research.google.com/github/blinov-89/ocr/blob/main/OCR.ipynb\" target=\"_parent\"><img src=\"https://colab.research.google.com/assets/colab-badge.svg\" alt=\"Open In Colab\"/></a>"
      ]
    },
    {
      "cell_type": "code",
      "source": [
        "from google.colab import files\n",
        "uploaded = files.upload()"
      ],
      "metadata": {
        "colab": {
          "resources": {
            "http://localhost:8080/nbextensions/google.colab/files.js": {
              "data": "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",
              "ok": true,
              "headers": [
                [
                  "content-type",
                  "application/javascript"
                ]
              ],
              "status": 200,
              "status_text": ""
            }
          },
          "base_uri": "https://localhost:8080/",
          "height": 73
        },
        "id": "B4fAYe8FN46Z",
        "outputId": "26d222f8-1431-4ff4-a973-1bfb593e43e7"
      },
      "execution_count": null,
      "outputs": [
        {
          "output_type": "display_data",
          "data": {
            "text/plain": [
              "<IPython.core.display.HTML object>"
            ],
            "text/html": [
              "\n",
              "     <input type=\"file\" id=\"files-4ede090f-6fb2-47af-a49c-87a516fdae76\" name=\"files[]\" multiple disabled\n",
              "        style=\"border:none\" />\n",
              "     <output id=\"result-4ede090f-6fb2-47af-a49c-87a516fdae76\">\n",
              "      Upload widget is only available when the cell has been executed in the\n",
              "      current browser session. Please rerun this cell to enable.\n",
              "      </output>\n",
              "      <script src=\"/nbextensions/google.colab/files.js\"></script> "
            ]
          },
          "metadata": {}
        },
        {
          "output_type": "stream",
          "name": "stdout",
          "text": [
            "Saving Hymn_text.jpg to Hymn_text (2).jpg\n"
          ]
        }
      ]
    },
    {
      "cell_type": "code",
      "source": [
        "!pip install torch torchvision"
      ],
      "metadata": {
        "id": "k9_i1-bPN5FB",
        "colab": {
          "base_uri": "https://localhost:8080/"
        },
        "outputId": "d07ccce1-55d3-43c6-cecb-bcb0fca08b53"
      },
      "execution_count": null,
      "outputs": [
        {
          "output_type": "stream",
          "name": "stdout",
          "text": [
            "Requirement already satisfied: torch in /usr/local/lib/python3.7/dist-packages (1.11.0+cu113)\n",
            "Requirement already satisfied: torchvision in /usr/local/lib/python3.7/dist-packages (0.12.0+cu113)\n",
            "Requirement already satisfied: typing-extensions in /usr/local/lib/python3.7/dist-packages (from torch) (4.2.0)\n",
            "Requirement already satisfied: pillow!=8.3.*,>=5.3.0 in /usr/local/lib/python3.7/dist-packages (from torchvision) (9.1.1)\n",
            "Requirement already satisfied: numpy in /usr/local/lib/python3.7/dist-packages (from torchvision) (1.21.6)\n",
            "Requirement already satisfied: requests in /usr/local/lib/python3.7/dist-packages (from torchvision) (2.23.0)\n",
            "Requirement already satisfied: idna<3,>=2.5 in /usr/local/lib/python3.7/dist-packages (from requests->torchvision) (2.10)\n",
            "Requirement already satisfied: chardet<4,>=3.0.2 in /usr/local/lib/python3.7/dist-packages (from requests->torchvision) (3.0.4)\n",
            "Requirement already satisfied: certifi>=2017.4.17 in /usr/local/lib/python3.7/dist-packages (from requests->torchvision) (2021.10.8)\n",
            "Requirement already satisfied: urllib3!=1.25.0,!=1.25.1,<1.26,>=1.21.1 in /usr/local/lib/python3.7/dist-packages (from requests->torchvision) (1.24.3)\n"
          ]
        }
      ]
    },
    {
      "cell_type": "code",
      "source": [
        "!pip install easyocr"
      ],
      "metadata": {
        "id": "CnO7E4EKN5IC",
        "colab": {
          "base_uri": "https://localhost:8080/"
        },
        "outputId": "f280c8a7-9c55-4445-9cb1-7535dc3cba72"
      },
      "execution_count": null,
      "outputs": [
        {
          "output_type": "stream",
          "name": "stdout",
          "text": [
            "Collecting easyocr\n",
            "  Downloading easyocr-1.4.2-py3-none-any.whl (70.8 MB)\n",
            "\u001b[K     |████████████████████████████████| 70.8 MB 1.4 MB/s \n",
            "\u001b[?25hRequirement already satisfied: Pillow in /usr/local/lib/python3.7/dist-packages (from easyocr) (9.1.1)\n",
            "Requirement already satisfied: torchvision>=0.5 in /usr/local/lib/python3.7/dist-packages (from easyocr) (0.12.0+cu113)\n",
            "Requirement already satisfied: PyYAML in /usr/local/lib/python3.7/dist-packages (from easyocr) (3.13)\n",
            "Collecting python-bidi\n",
            "  Downloading python_bidi-0.4.2-py2.py3-none-any.whl (30 kB)\n",
            "Requirement already satisfied: torch in /usr/local/lib/python3.7/dist-packages (from easyocr) (1.11.0+cu113)\n",
            "Requirement already satisfied: scipy in /usr/local/lib/python3.7/dist-packages (from easyocr) (1.4.1)\n",
            "Collecting opencv-python-headless<=4.5.4.60\n",
            "  Downloading opencv_python_headless-4.5.4.60-cp37-cp37m-manylinux_2_17_x86_64.manylinux2014_x86_64.whl (47.6 MB)\n",
            "\u001b[K     |████████████████████████████████| 47.6 MB 1.4 MB/s \n",
            "\u001b[?25hRequirement already satisfied: numpy in /usr/local/lib/python3.7/dist-packages (from easyocr) (1.21.6)\n",
            "Requirement already satisfied: scikit-image in /usr/local/lib/python3.7/dist-packages (from easyocr) (0.18.3)\n",
            "Requirement already satisfied: requests in /usr/local/lib/python3.7/dist-packages (from torchvision>=0.5->easyocr) (2.23.0)\n",
            "Requirement already satisfied: typing-extensions in /usr/local/lib/python3.7/dist-packages (from torchvision>=0.5->easyocr) (4.2.0)\n",
            "Requirement already satisfied: six in /usr/local/lib/python3.7/dist-packages (from python-bidi->easyocr) (1.15.0)\n",
            "Requirement already satisfied: urllib3!=1.25.0,!=1.25.1,<1.26,>=1.21.1 in /usr/local/lib/python3.7/dist-packages (from requests->torchvision>=0.5->easyocr) (1.24.3)\n",
            "Requirement already satisfied: chardet<4,>=3.0.2 in /usr/local/lib/python3.7/dist-packages (from requests->torchvision>=0.5->easyocr) (3.0.4)\n",
            "Requirement already satisfied: certifi>=2017.4.17 in /usr/local/lib/python3.7/dist-packages (from requests->torchvision>=0.5->easyocr) (2021.10.8)\n",
            "Requirement already satisfied: idna<3,>=2.5 in /usr/local/lib/python3.7/dist-packages (from requests->torchvision>=0.5->easyocr) (2.10)\n",
            "Requirement already satisfied: tifffile>=2019.7.26 in /usr/local/lib/python3.7/dist-packages (from scikit-image->easyocr) (2021.11.2)\n",
            "Requirement already satisfied: PyWavelets>=1.1.1 in /usr/local/lib/python3.7/dist-packages (from scikit-image->easyocr) (1.3.0)\n",
            "Requirement already satisfied: matplotlib!=3.0.0,>=2.0.0 in /usr/local/lib/python3.7/dist-packages (from scikit-image->easyocr) (3.2.2)\n",
            "Requirement already satisfied: networkx>=2.0 in /usr/local/lib/python3.7/dist-packages (from scikit-image->easyocr) (2.6.3)\n",
            "Requirement already satisfied: imageio>=2.3.0 in /usr/local/lib/python3.7/dist-packages (from scikit-image->easyocr) (2.4.1)\n",
            "Requirement already satisfied: pyparsing!=2.0.4,!=2.1.2,!=2.1.6,>=2.0.1 in /usr/local/lib/python3.7/dist-packages (from matplotlib!=3.0.0,>=2.0.0->scikit-image->easyocr) (3.0.9)\n",
            "Requirement already satisfied: python-dateutil>=2.1 in /usr/local/lib/python3.7/dist-packages (from matplotlib!=3.0.0,>=2.0.0->scikit-image->easyocr) (2.8.2)\n",
            "Requirement already satisfied: kiwisolver>=1.0.1 in /usr/local/lib/python3.7/dist-packages (from matplotlib!=3.0.0,>=2.0.0->scikit-image->easyocr) (1.4.2)\n",
            "Requirement already satisfied: cycler>=0.10 in /usr/local/lib/python3.7/dist-packages (from matplotlib!=3.0.0,>=2.0.0->scikit-image->easyocr) (0.11.0)\n",
            "Installing collected packages: python-bidi, opencv-python-headless, easyocr\n",
            "Successfully installed easyocr-1.4.2 opencv-python-headless-4.5.4.60 python-bidi-0.4.2\n"
          ]
        }
      ]
    },
    {
      "cell_type": "code",
      "source": [
        "import easyocr"
      ],
      "metadata": {
        "id": "lYerdbTKT7LN"
      },
      "execution_count": null,
      "outputs": []
    },
    {
      "cell_type": "code",
      "source": [
        "reader = easyocr.Reader(['en','ru'], gpu = True)"
      ],
      "metadata": {
        "colab": {
          "base_uri": "https://localhost:8080/"
        },
        "id": "I-gOFnVTT7Uu",
        "outputId": "ab3f0ae3-3f84-4c34-eced-d8996493263f"
      },
      "execution_count": null,
      "outputs": [
        {
          "output_type": "stream",
          "name": "stderr",
          "text": [
            "CUDA not available - defaulting to CPU. Note: This module is much faster with a GPU.\n",
            "Downloading detection model, please wait. This may take several minutes depending upon your network connection.\n"
          ]
        },
        {
          "output_type": "stream",
          "name": "stdout",
          "text": [
            "Progress: |██████████████████████████████████████████████████| 100.0% Complete"
          ]
        },
        {
          "output_type": "stream",
          "name": "stderr",
          "text": [
            "Downloading recognition model, please wait. This may take several minutes depending upon your network connection.\n"
          ]
        },
        {
          "output_type": "stream",
          "name": "stdout",
          "text": [
            "Progress: |██████████████████████████████████████████████████| 100.0% Complete"
          ]
        }
      ]
    },
    {
      "cell_type": "code",
      "source": [
        "bounds = reader.readtext('Hymn_text.jpg')"
      ],
      "metadata": {
        "id": "eFJW1lI-T7YE"
      },
      "execution_count": null,
      "outputs": []
    },
    {
      "cell_type": "code",
      "source": [
        "bounds"
      ],
      "metadata": {
        "colab": {
          "base_uri": "https://localhost:8080/"
        },
        "id": "kVK7Hg56UhOl",
        "outputId": "496b470e-a68d-445f-ab0c-5d71f9f320e0"
      },
      "execution_count": null,
      "outputs": [
        {
          "output_type": "execute_result",
          "data": {
            "text/plain": [
              "[([[228, 33], [686, 33], [686, 63], [228, 63]],\n",
              "  'Государственный гимн Российской Федерации',\n",
              "  0.9975165561701366),\n",
              " ([[228, 60], [456, 60], [456, 86], [228, 86]],\n",
              "  'Ослова С В Михалкова)',\n",
              "  0.5780493311622652),\n",
              " ([[229, 87], [297, 87], [297, 107], [229, 107]],\n",
              "  'Россия',\n",
              "  0.9976247085590882),\n",
              " ([[312, 90], [539, 90], [539, 111], [312, 111]],\n",
              "  'священная наша держава',\n",
              "  0.9465901767542381),\n",
              " ([[229, 113], [297, 113], [297, 133], [229, 133]],\n",
              "  'Россия',\n",
              "  0.9974867104331251),\n",
              " ([[311, 115], [393, 115], [393, 133], [311, 133]],\n",
              "  'любимая',\n",
              "  0.724688609102826),\n",
              " ([[397, 119], [511, 119], [511, 135], [397, 135]],\n",
              "  'наша страна',\n",
              "  0.46576151454223347),\n",
              " ([[281, 143], [361, 143], [361, 159], [281, 159]],\n",
              "  'Чая воля',\n",
              "  0.6542988890902207),\n",
              " ([[367, 143], [441, 143], [441, 159], [367, 159]],\n",
              "  'великая',\n",
              "  0.4461892416242467),\n",
              " ([[445, 145], [495, 145], [495, 159], [445, 159]],\n",
              "  'Слява',\n",
              "  0.4655327077260027),\n",
              " ([[230, 162], [518, 162], [518, 188], [230, 188]],\n",
              "  'Твое достоянье на все времена!',\n",
              "  0.7480462882110253),\n",
              " ([[230, 188], [462, 188], [462, 212], [230, 212]],\n",
              "  'Славься, Отечество наше',\n",
              "  0.7284020673593886),\n",
              " ([[459, 186], [560, 186], [560, 215], [459, 215]],\n",
              "  'свободное',\n",
              "  0.9986357597343256),\n",
              " ([[228, 214], [526, 214], [526, 238], [228, 238]],\n",
              "  'Братских народов союз вековой',\n",
              "  0.7098465643692811),\n",
              " ([[227, 239], [576, 239], [576, 266], [227, 266]],\n",
              "  'Предками данная мудрость народная!',\n",
              "  0.7489613153658335),\n",
              " ([[229, 264], [576, 264], [576, 290], [229, 290]],\n",
              "  'Славься, страна! Мы гордимся тобой!',\n",
              "  0.9269782314360421),\n",
              " ([[230, 290], [328, 290], [328, 314], [230, 314]],\n",
              "  'От южных',\n",
              "  0.5540351098681631),\n",
              " ([[324, 288], [562, 288], [562, 319], [324, 319]],\n",
              "  ' морей до полярного края',\n",
              "  0.6304277709966418),\n",
              " ([[227, 315], [510, 315], [510, 340], [227, 340]],\n",
              "  'Раскинулись наши леса и поля',\n",
              "  0.912965035627952),\n",
              " ([[230, 342], [446, 342], [446, 366], [230, 366]],\n",
              "  'Одна ты на светe! Одна',\n",
              "  0.5443917887014548),\n",
              " ([[449, 349], [531, 349], [531, 363], [449, 363]],\n",
              "  'ТыТакая',\n",
              "  0.40626088909532565),\n",
              " ([[231, 368], [518, 368], [518, 395], [231, 395]],\n",
              "  'Хранимая Богом родная земля !',\n",
              "  0.9122177760217762),\n",
              " ([[228, 390], [560, 390], [560, 419], [228, 419]],\n",
              "  'Славься, Отечество наше свободное',\n",
              "  0.8809747482490522),\n",
              " ([[227, 417], [526, 417], [526, 447], [227, 447]],\n",
              "  'Братских народов союз вековой',\n",
              "  0.877508606008056),\n",
              " ([[227, 443], [576, 443], [576, 471], [227, 471]],\n",
              "  'Предками данная мудрость народная!',\n",
              "  0.8153370832712495),\n",
              " ([[233, 473], [309, 473], [309, 491], [233, 491]],\n",
              "  'Славься',\n",
              "  0.9606827975183604),\n",
              " ([[316, 470], [576, 470], [576, 496], [316, 496]],\n",
              "  'страна! Мы гордимся тобой!',\n",
              "  0.7854552342109172),\n",
              " ([[227, 491], [612, 491], [612, 521], [227, 521]],\n",
              "  'Широкий простор для мечты и для жизни',\n",
              "  0.6832053866682257),\n",
              " ([[226, 519], [516, 519], [516, 550], [226, 550]],\n",
              "  'Грядущие нам открываюг года',\n",
              "  0.971040669786761),\n",
              " ([[228, 546], [318, 546], [318, 572], [228, 572]],\n",
              "  'Нам силу',\n",
              "  0.8471977034951365),\n",
              " ([[365, 553], [413, 553], [413, 567], [365, 567]],\n",
              "  'Наша',\n",
              "  0.18536490201950073),\n",
              " ([[415, 548], [578, 548], [578, 573], [415, 573]],\n",
              "  'верность Отчизне',\n",
              "  0.8175509441138287),\n",
              " ([[231, 573], [319, 573], [319, 593], [231, 593]],\n",
              "  'Так было',\n",
              "  0.826132899758961),\n",
              " ([[325, 577], [357, 577], [357, 593], [325, 593]], 'Так', 0.3217877470342125),\n",
              " ([[361, 577], [453, 577], [453, 593], [361, 593]],\n",
              "  'есть итак',\n",
              "  0.5130355943402711),\n",
              " ([[454, 572], [580, 572], [580, 598], [454, 598]],\n",
              "  'будет всегда!',\n",
              "  0.6531306563137014),\n",
              " ([[228, 595], [560, 595], [560, 623], [228, 623]],\n",
              "  'Славься, Отечество наше свободное',\n",
              "  0.7588846376815748),\n",
              " ([[228, 622], [526, 622], [526, 648], [228, 648]],\n",
              "  'Братских народов союз вековой',\n",
              "  0.712508796981697),\n",
              " ([[228, 649], [576, 649], [576, 674], [228, 674]],\n",
              "  'Предками данная мудрость народная!',\n",
              "  0.9663315699650545),\n",
              " ([[231, 674], [576, 674], [576, 700], [231, 700]],\n",
              "  'Славься, страна! Мы гордимся тобой!',\n",
              "  0.7884660505276224),\n",
              " ([[231.28204184138227, 135.13330878759388],\n",
              "   [282.92865229583424, 142.47056603643767],\n",
              "   [279.71795815861776, 164.86669121240612],\n",
              "   [228.07134770416576, 157.52943396356233]],\n",
              "  'Mory',\n",
              "  0.5315418839454651),\n",
              " ([[318.6546544120074, 552.5201198532081],\n",
              "   [362.7227318067676, 546.9840299601115],\n",
              "   [364.3453455879926, 566.4798801467919],\n",
              "   [320.2772681932324, 572.0159700398885]],\n",
              "  'Дает',\n",
              "  0.542926013469696)]"
            ]
          },
          "metadata": {},
          "execution_count": 12
        }
      ]
    },
    {
      "cell_type": "code",
      "source": [
        "type(bounds)"
      ],
      "metadata": {
        "colab": {
          "base_uri": "https://localhost:8080/"
        },
        "id": "beZMk6WPXvrJ",
        "outputId": "1c6499ac-05b6-49d7-eb0c-26265ccf5975"
      },
      "execution_count": null,
      "outputs": [
        {
          "output_type": "execute_result",
          "data": {
            "text/plain": [
              "list"
            ]
          },
          "metadata": {},
          "execution_count": 25
        }
      ]
    },
    {
      "cell_type": "code",
      "source": [
        "bounds[0][1]"
      ],
      "metadata": {
        "colab": {
          "base_uri": "https://localhost:8080/",
          "height": 35
        },
        "id": "l68BrdBqVZQ1",
        "outputId": "321d39e7-18d1-46e4-a4fd-6572b036a029"
      },
      "execution_count": null,
      "outputs": [
        {
          "output_type": "execute_result",
          "data": {
            "text/plain": [
              "'Государственный гимн Российской Федерации'"
            ],
            "application/vnd.google.colaboratory.intrinsic+json": {
              "type": "string"
            }
          },
          "metadata": {},
          "execution_count": 23
        }
      ]
    },
    {
      "cell_type": "code",
      "source": [
        "len(bounds)"
      ],
      "metadata": {
        "colab": {
          "base_uri": "https://localhost:8080/"
        },
        "id": "oKxaQ9uvW0pQ",
        "outputId": "2ea98b93-f725-4c7e-d334-f5288fe9085b"
      },
      "execution_count": null,
      "outputs": [
        {
          "output_type": "execute_result",
          "data": {
            "text/plain": [
              "42"
            ]
          },
          "metadata": {},
          "execution_count": 17
        }
      ]
    },
    {
      "cell_type": "code",
      "source": [
        "text=[]"
      ],
      "metadata": {
        "id": "Vs2QZqc-aDvy"
      },
      "execution_count": null,
      "outputs": []
    },
    {
      "cell_type": "code",
      "source": [
        "for item in bounds:\n",
        "    text.append(item[1])"
      ],
      "metadata": {
        "id": "fAtLAtZ5Vzjy"
      },
      "execution_count": null,
      "outputs": []
    },
    {
      "cell_type": "code",
      "source": [
        "text=text[:-2]"
      ],
      "metadata": {
        "id": "9w9qZxX6aQ8Q"
      },
      "execution_count": null,
      "outputs": []
    },
    {
      "cell_type": "code",
      "source": [
        "text"
      ],
      "metadata": {
        "colab": {
          "base_uri": "https://localhost:8080/"
        },
        "id": "UMoL0qF7aibR",
        "outputId": "4b62385a-c587-47c3-f779-97528a814ba8"
      },
      "execution_count": null,
      "outputs": [
        {
          "output_type": "execute_result",
          "data": {
            "text/plain": [
              "['Государственный гимн Российской Федерации',\n",
              " 'Ослова С В Михалкова)',\n",
              " 'Россия',\n",
              " 'священная наша держава',\n",
              " 'Россия',\n",
              " 'любимая',\n",
              " 'наша страна',\n",
              " 'Чая воля',\n",
              " 'великая',\n",
              " 'Слява',\n",
              " 'Твое достоянье на все времена!',\n",
              " 'Славься, Отечество наше',\n",
              " 'свободное',\n",
              " 'Братских народов союз вековой',\n",
              " 'Предками данная мудрость народная!',\n",
              " 'Славься, страна! Мы гордимся тобой!',\n",
              " 'От южных',\n",
              " ' морей до полярного края',\n",
              " 'Раскинулись наши леса и поля',\n",
              " 'Одна ты на светe! Одна',\n",
              " 'ТыТакая',\n",
              " 'Хранимая Богом родная земля !',\n",
              " 'Славься, Отечество наше свободное',\n",
              " 'Братских народов союз вековой',\n",
              " 'Предками данная мудрость народная!',\n",
              " 'Славься',\n",
              " 'страна! Мы гордимся тобой!',\n",
              " 'Широкий простор для мечты и для жизни',\n",
              " 'Грядущие нам открываюг года',\n",
              " 'Нам силу',\n",
              " 'Наша',\n",
              " 'верность Отчизне',\n",
              " 'Так было',\n",
              " 'Так',\n",
              " 'есть итак',\n",
              " 'будет всегда!',\n",
              " 'Славься, Отечество наше свободное',\n",
              " 'Братских народов союз вековой',\n",
              " 'Предками данная мудрость народная!',\n",
              " 'Славься, страна! Мы гордимся тобой!']"
            ]
          },
          "metadata": {},
          "execution_count": 39
        }
      ]
    },
    {
      "cell_type": "code",
      "source": [
        "text = \",\".join(text).lower()"
      ],
      "metadata": {
        "id": "ha2scbmWb4XW"
      },
      "execution_count": null,
      "outputs": []
    },
    {
      "cell_type": "code",
      "source": [
        "text"
      ],
      "metadata": {
        "colab": {
          "base_uri": "https://localhost:8080/",
          "height": 122
        },
        "id": "I8boVbZYb_R-",
        "outputId": "430018dc-c227-41c4-f2b6-36517d4dbc0c"
      },
      "execution_count": null,
      "outputs": [
        {
          "output_type": "execute_result",
          "data": {
            "text/plain": [
              "'государственный гимн российской федерации,ослова с в михалкова),россия,священная наша держава,россия,любимая,наша страна,чая воля,великая,слява,твое достоянье на все времена!,славься, отечество наше,свободное,братских народов союз вековой,предками данная мудрость народная!,славься, страна! мы гордимся тобой!,от южных, морей до полярного края,раскинулись наши леса и поля,одна ты на светe! одна,тытакая,хранимая богом родная земля !,славься, отечество наше свободное,братских народов союз вековой,предками данная мудрость народная!,славься,страна! мы гордимся тобой!,широкий простор для мечты и для жизни,грядущие нам открываюг года,нам силу,наша,верность отчизне,так было,так,есть итак,будет всегда!,славься, отечество наше свободное,братских народов союз вековой,предками данная мудрость народная!,славься, страна! мы гордимся тобой!'"
            ],
            "application/vnd.google.colaboratory.intrinsic+json": {
              "type": "string"
            }
          },
          "metadata": {},
          "execution_count": 46
        }
      ]
    },
    {
      "cell_type": "code",
      "source": [
        "count=0\n",
        "for i in text: \n",
        "    if i == 'г': \n",
        "        count = count + 1\n",
        "print(count)"
      ],
      "metadata": {
        "colab": {
          "base_uri": "https://localhost:8080/"
        },
        "id": "MLytSAJobciu",
        "outputId": "f3a5cc8e-6c0d-458d-c506-1d6546da3672"
      },
      "execution_count": null,
      "outputs": [
        {
          "output_type": "stream",
          "name": "stdout",
          "text": [
            "11\n"
          ]
        }
      ]
    },
    {
      "cell_type": "code",
      "source": [
        "all_freq = {}\n",
        "for i in text:\n",
        "    if i in all_freq:\n",
        "        all_freq[i] += 1\n",
        "    else:\n",
        "        all_freq[i] = 1\n",
        "\n",
        "print (\"Count of all characters in text is :\\n \" +  str(all_freq))"
      ],
      "metadata": {
        "colab": {
          "base_uri": "https://localhost:8080/"
        },
        "id": "OeAlhkj9dV5K",
        "outputId": "b2b2aed7-52d4-46e1-b2e0-ac129800202a"
      },
      "execution_count": null,
      "outputs": [
        {
          "output_type": "stream",
          "name": "stdout",
          "text": [
            "Count of all characters in text is :\n",
            " {'г': 11, 'о': 77, 'с': 58, 'у': 8, 'д': 35, 'а': 78, 'р': 41, 'т': 37, 'в': 37, 'е': 40, 'н': 50, 'ы': 10, 'й': 11, ' ': 82, 'и': 32, 'м': 23, 'к': 20, 'ф': 1, 'ц': 1, ',': 44, 'л': 21, 'х': 6, ')': 1, 'я': 35, 'щ': 2, 'ш': 8, 'ж': 3, 'ю': 6, 'б': 13, 'ч': 6, 'ь': 13, '!': 13, 'з': 6, 'п': 6, 'e': 1}\n"
          ]
        }
      ]
    },
    {
      "cell_type": "code",
      "source": [
        "from collections import Counter\n",
        "res = Counter(text)\n",
        "print (\"Count of all characters in text is :\\n \" +  str(res))"
      ],
      "metadata": {
        "colab": {
          "base_uri": "https://localhost:8080/"
        },
        "id": "y_VxCAdbd09E",
        "outputId": "c3f38cf2-21fd-49c7-9794-ec59f9b3c498"
      },
      "execution_count": null,
      "outputs": [
        {
          "output_type": "stream",
          "name": "stdout",
          "text": [
            "Count of all characters in text is :\n",
            " Counter({' ': 82, 'а': 78, 'о': 77, 'с': 58, 'н': 50, ',': 44, 'р': 41, 'е': 40, 'т': 37, 'в': 37, 'д': 35, 'я': 35, 'и': 32, 'м': 23, 'л': 21, 'к': 20, 'б': 13, 'ь': 13, '!': 13, 'г': 11, 'й': 11, 'ы': 10, 'у': 8, 'ш': 8, 'х': 6, 'ю': 6, 'ч': 6, 'з': 6, 'п': 6, 'ж': 3, 'щ': 2, 'ф': 1, 'ц': 1, ')': 1, 'e': 1})\n"
          ]
        }
      ]
    }
  ]
}